{
 "cells": [
  {
   "cell_type": "markdown",
   "id": "36de2131-9583-4aac-bd56-fc4696c7c9f0",
   "metadata": {},
   "source": [
    "# Numpy Special Operations\n"
   ]
  },
  {
   "cell_type": "code",
   "execution_count": 6,
   "id": "2793d8fc-b03a-4581-9d49-3a7d31c0f8c9",
   "metadata": {
    "scrolled": true
   },
   "outputs": [
    {
     "data": {
      "text/plain": [
       "array([0., 0., 0., 0., 0.])"
      ]
     },
     "execution_count": 6,
     "metadata": {},
     "output_type": "execute_result"
    }
   ],
   "source": [
    "import numpy as np\n",
    "\n",
    "arr = np.zeros(5)\n",
    "arr"
   ]
  },
  {
   "cell_type": "code",
   "execution_count": 7,
   "id": "4587bb7d-661f-4924-bba4-32d17186c04e",
   "metadata": {},
   "outputs": [
    {
     "data": {
      "text/plain": [
       "array([[0., 0., 0.],\n",
       "       [0., 0., 0.],\n",
       "       [0., 0., 0.]])"
      ]
     },
     "execution_count": 7,
     "metadata": {},
     "output_type": "execute_result"
    }
   ],
   "source": [
    "arr = np.zeros([3,3])\n",
    "arr"
   ]
  },
  {
   "cell_type": "code",
   "execution_count": 8,
   "id": "1e2abb15-6e04-4153-a56b-1c979e2f850e",
   "metadata": {},
   "outputs": [
    {
     "data": {
      "text/plain": [
       "array([[0, 0, 0],\n",
       "       [0, 0, 0],\n",
       "       [0, 0, 0]])"
      ]
     },
     "execution_count": 8,
     "metadata": {},
     "output_type": "execute_result"
    }
   ],
   "source": [
    "arr = np.zeros([3,3],dtype = int)\n",
    "arr"
   ]
  },
  {
   "cell_type": "code",
   "execution_count": 9,
   "id": "3346b295-60f2-4924-9157-b8dcb506ee6f",
   "metadata": {},
   "outputs": [
    {
     "data": {
      "text/plain": [
       "array([[[0, 0, 0],\n",
       "        [0, 0, 0],\n",
       "        [0, 0, 0]],\n",
       "\n",
       "       [[0, 0, 0],\n",
       "        [0, 0, 0],\n",
       "        [0, 0, 0]],\n",
       "\n",
       "       [[0, 0, 0],\n",
       "        [0, 0, 0],\n",
       "        [0, 0, 0]]])"
      ]
     },
     "execution_count": 9,
     "metadata": {},
     "output_type": "execute_result"
    }
   ],
   "source": [
    "arr = np.zeros([3,3,3],dtype = int)\n",
    "arr"
   ]
  },
  {
   "cell_type": "code",
   "execution_count": 10,
   "id": "679c4303-6a17-48ef-899f-c448fff8e946",
   "metadata": {},
   "outputs": [
    {
     "data": {
      "text/plain": [
       "array([1, 1, 1])"
      ]
     },
     "execution_count": 10,
     "metadata": {},
     "output_type": "execute_result"
    }
   ],
   "source": [
    "arr = np.ones([3],dtype = int)\n",
    "arr"
   ]
  },
  {
   "cell_type": "code",
   "execution_count": 11,
   "id": "1bf3f862-7c4e-4ab4-8dcb-19e7072221b3",
   "metadata": {},
   "outputs": [
    {
     "data": {
      "text/plain": [
       "array([[1, 1, 1],\n",
       "       [1, 1, 1],\n",
       "       [1, 1, 1]])"
      ]
     },
     "execution_count": 11,
     "metadata": {},
     "output_type": "execute_result"
    }
   ],
   "source": [
    "arr = np.ones([3,3,],dtype = int)\n",
    "arr"
   ]
  },
  {
   "cell_type": "code",
   "execution_count": 12,
   "id": "140400fb-612f-48c9-8f0f-7c41ee532579",
   "metadata": {},
   "outputs": [
    {
     "data": {
      "text/plain": [
       "array([[7, 7, 7],\n",
       "       [7, 7, 7],\n",
       "       [7, 7, 7]])"
      ]
     },
     "execution_count": 12,
     "metadata": {},
     "output_type": "execute_result"
    }
   ],
   "source": [
    "arr = np.full([3,3],7)\n",
    "arr"
   ]
  },
  {
   "cell_type": "code",
   "execution_count": 15,
   "id": "c3e4688a-9fea-4f30-a8fc-e259cd40d03f",
   "metadata": {},
   "outputs": [
    {
     "data": {
      "text/plain": [
       "array([['digar', 'digar', 'digar'],\n",
       "       ['digar', 'digar', 'digar'],\n",
       "       ['digar', 'digar', 'digar']], dtype='<U5')"
      ]
     },
     "execution_count": 15,
     "metadata": {},
     "output_type": "execute_result"
    }
   ],
   "source": [
    "arr = np.full([3,3],'digar')\n",
    "arr"
   ]
  },
  {
   "cell_type": "code",
   "execution_count": 18,
   "id": "f77e317f-03a4-48f6-b540-130f8e80b53d",
   "metadata": {},
   "outputs": [
    {
     "data": {
      "text/plain": [
       "array([ 1,  2,  3,  4,  5,  6,  7,  8,  9, 10, 11, 12, 13, 14, 15, 16, 17,\n",
       "       18, 19, 20])"
      ]
     },
     "execution_count": 18,
     "metadata": {},
     "output_type": "execute_result"
    }
   ],
   "source": [
    "arr = np.arange(1,21)\n",
    "arr"
   ]
  },
  {
   "cell_type": "code",
   "execution_count": null,
   "id": "d55bd548-f535-4383-b513-8ed8e151ea57",
   "metadata": {},
   "outputs": [],
   "source": []
  },
  {
   "cell_type": "markdown",
   "id": "4757cb6d-eadb-4a19-8c3b-bc01d3cf1ccb",
   "metadata": {},
   "source": [
    "# Random Number Generation\n"
   ]
  },
  {
   "cell_type": "code",
   "execution_count": 19,
   "id": "7edf192c-e142-48ad-8f34-d161033aca7c",
   "metadata": {},
   "outputs": [],
   "source": [
    "from numpy import random"
   ]
  },
  {
   "cell_type": "code",
   "execution_count": 21,
   "id": "08935624-614b-4611-8b15-b02636b12c23",
   "metadata": {},
   "outputs": [
    {
     "data": {
      "text/plain": [
       "array([22, 24, 71, 85,  2])"
      ]
     },
     "execution_count": 21,
     "metadata": {},
     "output_type": "execute_result"
    }
   ],
   "source": [
    "a = random.randint(0,100,5)\n",
    "a"
   ]
  },
  {
   "cell_type": "code",
   "execution_count": null,
   "id": "10786165-00c4-4609-b107-c271e7b16ad5",
   "metadata": {},
   "outputs": [],
   "source": []
  },
  {
   "cell_type": "code",
   "execution_count": 22,
   "id": "e19f9821-6bcf-4bd1-b2d2-e36f26820737",
   "metadata": {},
   "outputs": [
    {
     "data": {
      "text/plain": [
       "array([23,  0, 67, 94, 89,  5, 77, 41, 29, 11])"
      ]
     },
     "execution_count": 22,
     "metadata": {},
     "output_type": "execute_result"
    }
   ],
   "source": [
    "a = random.randint(100,size = 10)\n",
    "a"
   ]
  },
  {
   "cell_type": "code",
   "execution_count": 23,
   "id": "12742896-6d0a-4c68-b541-62d5b9693405",
   "metadata": {},
   "outputs": [
    {
     "data": {
      "text/plain": [
       "array([[99, 50, 94],\n",
       "       [94, 27, 71],\n",
       "       [77, 61,  0]])"
      ]
     },
     "execution_count": 23,
     "metadata": {},
     "output_type": "execute_result"
    }
   ],
   "source": [
    "a = random.randint(100,size = [3,3])\n",
    "a"
   ]
  },
  {
   "cell_type": "code",
   "execution_count": 25,
   "id": "c86d2a9b-5deb-4da3-95a2-f1d4d8824527",
   "metadata": {},
   "outputs": [
    {
     "data": {
      "text/plain": [
       "array([[[734, 188, 988],\n",
       "        [ 87, 105, 732],\n",
       "        [653, 532, 749]],\n",
       "\n",
       "       [[161, 891,  86],\n",
       "        [654, 532, 268],\n",
       "        [ 47, 476, 552]],\n",
       "\n",
       "       [[214, 390, 936],\n",
       "        [543, 471, 253],\n",
       "        [166, 189, 708]]])"
      ]
     },
     "execution_count": 25,
     "metadata": {},
     "output_type": "execute_result"
    }
   ],
   "source": [
    "a = random.randint(1000,size = [3,3,3])\n",
    "a"
   ]
  },
  {
   "cell_type": "code",
   "execution_count": null,
   "id": "b9c06039-e445-439d-adb4-521b5d8bb79e",
   "metadata": {},
   "outputs": [],
   "source": []
  },
  {
   "cell_type": "code",
   "execution_count": 26,
   "id": "fa692813-6df5-498e-a948-4baf30396667",
   "metadata": {},
   "outputs": [
    {
     "data": {
      "text/plain": [
       "array([0.91963741, 0.16278666, 0.70646327, 0.92613863, 0.63373939])"
      ]
     },
     "execution_count": 26,
     "metadata": {},
     "output_type": "execute_result"
    }
   ],
   "source": [
    "a = random.rand(5)\n",
    "a"
   ]
  },
  {
   "cell_type": "code",
   "execution_count": 27,
   "id": "9198e41b-0218-46ea-9233-849127f08c9b",
   "metadata": {},
   "outputs": [
    {
     "data": {
      "text/plain": [
       "array([22595.12506863, 22078.01887601, 12893.72526856, 16938.8002388 ,\n",
       "       19430.17385399, 11953.8296664 , 18124.20926678, 11591.78547604,\n",
       "       29776.12596002, 24491.47721912, 25231.25116262, 19871.83786738,\n",
       "       14541.40910672, 28847.77907655, 11160.47629927, 19436.67805976,\n",
       "       17849.56619579, 17570.13151826, 10145.99133818, 16305.57933597,\n",
       "       19044.9632825 , 24118.8304899 , 25291.04001889, 22240.02836529,\n",
       "       11407.89745817, 29182.25276234, 17300.43135136, 28065.83702182,\n",
       "       18222.27226336, 11340.5896828 , 15254.69871559, 12805.13082474,\n",
       "       10441.38322953, 26723.30628094, 13895.12161132, 27287.40064633,\n",
       "       18561.17158878, 16256.83773129, 17046.99683871, 24247.26460212])"
      ]
     },
     "execution_count": 27,
     "metadata": {},
     "output_type": "execute_result"
    }
   ],
   "source": [
    "a = random.uniform(10000,30000,40)\n",
    "a"
   ]
  },
  {
   "cell_type": "code",
   "execution_count": null,
   "id": "5c3c5f33-7e90-43c8-80ef-68b8773d60d0",
   "metadata": {},
   "outputs": [],
   "source": []
  },
  {
   "cell_type": "code",
   "execution_count": 28,
   "id": "6718cf87-c606-4171-8b58-008bab290f1c",
   "metadata": {},
   "outputs": [
    {
     "data": {
      "text/plain": [
       "array([8, 3, 8, 6, 6])"
      ]
     },
     "execution_count": 28,
     "metadata": {},
     "output_type": "execute_result"
    }
   ],
   "source": [
    "arr = random.choice([3,4,6,8],size = 5)\n",
    "arr"
   ]
  },
  {
   "cell_type": "code",
   "execution_count": null,
   "id": "41f70398-6be2-40c5-9be2-89de187d6b2b",
   "metadata": {},
   "outputs": [],
   "source": []
  },
  {
   "cell_type": "code",
   "execution_count": null,
   "id": "91535ff5-566d-4c45-9bf9-7275c17a5726",
   "metadata": {},
   "outputs": [],
   "source": []
  },
  {
   "cell_type": "code",
   "execution_count": null,
   "id": "2ed1cd42-4f71-4e9a-b8ba-9fafe8493e72",
   "metadata": {},
   "outputs": [],
   "source": []
  },
  {
   "cell_type": "code",
   "execution_count": null,
   "id": "542f7383-b165-4afe-9bb3-12f91ab20dc1",
   "metadata": {},
   "outputs": [],
   "source": []
  },
  {
   "cell_type": "code",
   "execution_count": null,
   "id": "06813299-3b50-4b87-b103-ce6057614f33",
   "metadata": {},
   "outputs": [],
   "source": []
  },
  {
   "cell_type": "code",
   "execution_count": null,
   "id": "8b6a006d-b56f-43ed-a625-b964dceab67d",
   "metadata": {},
   "outputs": [],
   "source": []
  },
  {
   "cell_type": "code",
   "execution_count": null,
   "id": "784569cc-c1c5-47b0-b46b-cd3d2c8c00b0",
   "metadata": {},
   "outputs": [],
   "source": []
  },
  {
   "cell_type": "code",
   "execution_count": null,
   "id": "7c3bcfe5-0b35-41d5-8c43-fc96ad757404",
   "metadata": {},
   "outputs": [],
   "source": []
  },
  {
   "cell_type": "code",
   "execution_count": null,
   "id": "27fba77a-ef78-4c93-a8c6-4c32ffcdbabc",
   "metadata": {},
   "outputs": [],
   "source": []
  },
  {
   "cell_type": "code",
   "execution_count": null,
   "id": "11428df5-1ccb-4ed7-a5df-067f1e2db463",
   "metadata": {},
   "outputs": [],
   "source": []
  },
  {
   "cell_type": "code",
   "execution_count": null,
   "id": "cdd9da1e-1e6d-45da-b4f8-a6d00b48f1be",
   "metadata": {},
   "outputs": [],
   "source": []
  },
  {
   "cell_type": "code",
   "execution_count": null,
   "id": "f50540c3-ba7f-4420-8e9c-d5085d7946d4",
   "metadata": {},
   "outputs": [],
   "source": []
  },
  {
   "cell_type": "code",
   "execution_count": null,
   "id": "6bd00323-22dc-41a1-ad85-381970db767d",
   "metadata": {},
   "outputs": [],
   "source": []
  }
 ],
 "metadata": {
  "kernelspec": {
   "display_name": "Python 3 (ipykernel)",
   "language": "python",
   "name": "python3"
  },
  "language_info": {
   "codemirror_mode": {
    "name": "ipython",
    "version": 3
   },
   "file_extension": ".py",
   "mimetype": "text/x-python",
   "name": "python",
   "nbconvert_exporter": "python",
   "pygments_lexer": "ipython3",
   "version": "3.12.7"
  }
 },
 "nbformat": 4,
 "nbformat_minor": 5
}
